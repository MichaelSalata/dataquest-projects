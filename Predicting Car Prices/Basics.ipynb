{
 "cells": [
  {
   "cell_type": "markdown",
   "metadata": {},
   "source": [
    "# Data Set Information:\n",
    "info source: https://archive.ics.uci.edu/ml/datasets/automobile\n",
    "\n",
    "This data set consists of three types of entities: (a) the specification of an auto in terms of various characteristics, (b) its assigned insurance risk rating, (c) its normalized losses in use as compared to other cars. The second rating corresponds to the degree to which the auto is more risky than its price indicates. Cars are initially assigned a risk factor symbol associated with its price. Then, if it is more risky (or less), this symbol is adjusted by moving it up (or down) the scale. Actuarians call this process \"symboling\". A value of +3 indicates that the auto is risky, -3 that it is probably pretty safe.\n",
    "\n",
    "The third factor is the relative average loss payment per insured vehicle year. This value is normalized for all autos within a particular size classification (two-door small, station wagons, sports/speciality, etc...), and represents the average loss per car per year.\n",
    "\n",
    "Note: Several of the attributes in the database could be used as a \"class\" attribute.\n",
    "\n",
    "data download location: https://archive.ics.uci.edu/ml/machine-learning-databases/autos/imports-85.data"
   ]
  },
  {
   "cell_type": "code",
   "execution_count": 19,
   "metadata": {
    "collapsed": false
   },
   "outputs": [
    {
     "name": "stdout",
     "output_type": "stream",
     "text": [
      "Index(['symboling', 'normalized-losses', 'make', 'fuel-type', 'aspiration',\n",
      "       'num-of-doors', 'body-style', 'drive-wheels', 'engine-location',\n",
      "       'wheel-base', 'length', 'width', 'height', 'curb-weight', 'engine-type',\n",
      "       'num-of-cylinders', 'engine-size', 'fuel-system', 'bore', 'stroke',\n",
      "       'compression-ratio', 'horsepower', 'peak-rpm', 'city-mpg',\n",
      "       'highway-mpg', 'price'],\n",
      "      dtype='object')\n"
     ]
    }
   ],
   "source": [
    "# seems columns didn't have their name so I gave them the names corresponding to their order (from the data's info source link)\n",
    "import pandas as pd\n",
    "column_names = ['symboling', 'normalized-losses', 'make', 'fuel-type',\n",
    "                'aspiration', 'num-of-doors', 'body-style', 'drive-wheels',\n",
    "                'engine-location', 'wheel-base', 'length', 'width', 'height',\n",
    "                'curb-weight', 'engine-type', 'num-of-cylinders', 'engine-size',\n",
    "                'fuel-system', 'bore', 'stroke', 'compression-ratio', 'horsepower',\n",
    "                'peak-rpm', 'city-mpg', 'highway-mpg', 'price']\n",
    "cars_df = pd.read_csv('imports-85.data', names=column_names)\n",
    "print(cars_df.columns)"
   ]
  },
  {
   "cell_type": "markdown",
   "metadata": {},
   "source": [
    "# Columns & Their Possible Values\n",
    "1.** symboling**:                -3, -2, -1, 0, 1, 2, 3.\n",
    "\n",
    "2.** normalized-losses**:        continuous from 65 to 256.\n",
    "\n",
    "3.** make**:                     alfa-romero, audi, bmw, chevrolet, dodge, honda, isuzu, jaguar, mazda, mercedes-benz, mercury, mitsubishi, nissan, peugot, plymouth, porsche, renault, saab, subaru, toyota, volkswagen, volvo\n",
    "\n",
    "4.** fuel-type**:                diesel, gas.\n",
    "\n",
    "5.** aspiration**:               std, turbo.\n",
    "\n",
    "6.** num-of-doors**:             four, two.\n",
    "\n",
    "7.** body-style**:               hardtop, wagon, sedan, hatchback, convertible.\n",
    "\n",
    "8.** drive-wheels**:             4wd, fwd, rwd.\n",
    "\n",
    "9.** engine-location**:          front, rear.\n",
    "\n",
    "10.** wheel-base**:               continuous from 86.6 120.9.\n",
    "\n",
    "11.** length**:                   continuous from 141.1 to 208.1.\n",
    "\n",
    "12.** width**:                    continuous from 60.3 to 72.3.\n",
    "\n",
    "13.** height**:                   continuous from 47.8 to 59.8.\n",
    "\n",
    "14.** curb-weight**:              continuous from 1488 to 4066.\n",
    "\n",
    "15.** engine-type**:              dohc, dohcv, l, ohc, ohcf, ohcv, rotor.\n",
    "\n",
    "16.** num-of-cylinders**:         eight, five, four, six, three, twelve, two.\n",
    "\n",
    "17.** engine-size**:              continuous from 61 to 326.\n",
    "\n",
    "18.** fuel-system**:              1bbl, 2bbl, 4bbl, idi, mfi, mpfi, spdi, spfi.\n",
    "\n",
    "19.** bore**:                     continuous from 2.54 to 3.94.\n",
    "\n",
    "20.** stroke**:                   continuous from 2.07 to 4.17.\n",
    "\n",
    "21.** compression-ratio**:        continuous from 7 to 23.\n",
    "\n",
    "22.** horsepower**:               continuous from 48 to 288.\n",
    "\n",
    "23.** peak-rpm**:                 continuous from 4150 to 6600.\n",
    "\n",
    "24.** city-mpg**:                 continuous from 13 to 49.\n",
    "\n",
    "25.** highway-mpg**:              continuous from 16 to 54.\n",
    "\n",
    "26.** price**:                    continuous from 5118 to 45400.\n",
    "\n",
    "\n"
   ]
  },
  {
   "cell_type": "code",
   "execution_count": 20,
   "metadata": {
    "collapsed": false
   },
   "outputs": [
    {
     "data": {
      "text/html": [
       "<div>\n",
       "<style scoped>\n",
       "    .dataframe tbody tr th:only-of-type {\n",
       "        vertical-align: middle;\n",
       "    }\n",
       "\n",
       "    .dataframe tbody tr th {\n",
       "        vertical-align: top;\n",
       "    }\n",
       "\n",
       "    .dataframe thead th {\n",
       "        text-align: right;\n",
       "    }\n",
       "</style>\n",
       "<table border=\"1\" class=\"dataframe\">\n",
       "  <thead>\n",
       "    <tr style=\"text-align: right;\">\n",
       "      <th></th>\n",
       "      <th>symboling</th>\n",
       "      <th>normalized-losses</th>\n",
       "      <th>make</th>\n",
       "      <th>fuel-type</th>\n",
       "      <th>aspiration</th>\n",
       "      <th>num-of-doors</th>\n",
       "      <th>body-style</th>\n",
       "      <th>drive-wheels</th>\n",
       "      <th>engine-location</th>\n",
       "      <th>wheel-base</th>\n",
       "      <th>...</th>\n",
       "      <th>engine-size</th>\n",
       "      <th>fuel-system</th>\n",
       "      <th>bore</th>\n",
       "      <th>stroke</th>\n",
       "      <th>compression-ratio</th>\n",
       "      <th>horsepower</th>\n",
       "      <th>peak-rpm</th>\n",
       "      <th>city-mpg</th>\n",
       "      <th>highway-mpg</th>\n",
       "      <th>price</th>\n",
       "    </tr>\n",
       "  </thead>\n",
       "  <tbody>\n",
       "    <tr>\n",
       "      <th>0</th>\n",
       "      <td>3</td>\n",
       "      <td>?</td>\n",
       "      <td>alfa-romero</td>\n",
       "      <td>gas</td>\n",
       "      <td>std</td>\n",
       "      <td>two</td>\n",
       "      <td>convertible</td>\n",
       "      <td>rwd</td>\n",
       "      <td>front</td>\n",
       "      <td>88.6</td>\n",
       "      <td>...</td>\n",
       "      <td>130</td>\n",
       "      <td>mpfi</td>\n",
       "      <td>3.47</td>\n",
       "      <td>2.68</td>\n",
       "      <td>9.0</td>\n",
       "      <td>111</td>\n",
       "      <td>5000</td>\n",
       "      <td>21</td>\n",
       "      <td>27</td>\n",
       "      <td>13495</td>\n",
       "    </tr>\n",
       "    <tr>\n",
       "      <th>1</th>\n",
       "      <td>3</td>\n",
       "      <td>?</td>\n",
       "      <td>alfa-romero</td>\n",
       "      <td>gas</td>\n",
       "      <td>std</td>\n",
       "      <td>two</td>\n",
       "      <td>convertible</td>\n",
       "      <td>rwd</td>\n",
       "      <td>front</td>\n",
       "      <td>88.6</td>\n",
       "      <td>...</td>\n",
       "      <td>130</td>\n",
       "      <td>mpfi</td>\n",
       "      <td>3.47</td>\n",
       "      <td>2.68</td>\n",
       "      <td>9.0</td>\n",
       "      <td>111</td>\n",
       "      <td>5000</td>\n",
       "      <td>21</td>\n",
       "      <td>27</td>\n",
       "      <td>16500</td>\n",
       "    </tr>\n",
       "    <tr>\n",
       "      <th>2</th>\n",
       "      <td>1</td>\n",
       "      <td>?</td>\n",
       "      <td>alfa-romero</td>\n",
       "      <td>gas</td>\n",
       "      <td>std</td>\n",
       "      <td>two</td>\n",
       "      <td>hatchback</td>\n",
       "      <td>rwd</td>\n",
       "      <td>front</td>\n",
       "      <td>94.5</td>\n",
       "      <td>...</td>\n",
       "      <td>152</td>\n",
       "      <td>mpfi</td>\n",
       "      <td>2.68</td>\n",
       "      <td>3.47</td>\n",
       "      <td>9.0</td>\n",
       "      <td>154</td>\n",
       "      <td>5000</td>\n",
       "      <td>19</td>\n",
       "      <td>26</td>\n",
       "      <td>16500</td>\n",
       "    </tr>\n",
       "    <tr>\n",
       "      <th>3</th>\n",
       "      <td>2</td>\n",
       "      <td>164</td>\n",
       "      <td>audi</td>\n",
       "      <td>gas</td>\n",
       "      <td>std</td>\n",
       "      <td>four</td>\n",
       "      <td>sedan</td>\n",
       "      <td>fwd</td>\n",
       "      <td>front</td>\n",
       "      <td>99.8</td>\n",
       "      <td>...</td>\n",
       "      <td>109</td>\n",
       "      <td>mpfi</td>\n",
       "      <td>3.19</td>\n",
       "      <td>3.40</td>\n",
       "      <td>10.0</td>\n",
       "      <td>102</td>\n",
       "      <td>5500</td>\n",
       "      <td>24</td>\n",
       "      <td>30</td>\n",
       "      <td>13950</td>\n",
       "    </tr>\n",
       "    <tr>\n",
       "      <th>4</th>\n",
       "      <td>2</td>\n",
       "      <td>164</td>\n",
       "      <td>audi</td>\n",
       "      <td>gas</td>\n",
       "      <td>std</td>\n",
       "      <td>four</td>\n",
       "      <td>sedan</td>\n",
       "      <td>4wd</td>\n",
       "      <td>front</td>\n",
       "      <td>99.4</td>\n",
       "      <td>...</td>\n",
       "      <td>136</td>\n",
       "      <td>mpfi</td>\n",
       "      <td>3.19</td>\n",
       "      <td>3.40</td>\n",
       "      <td>8.0</td>\n",
       "      <td>115</td>\n",
       "      <td>5500</td>\n",
       "      <td>18</td>\n",
       "      <td>22</td>\n",
       "      <td>17450</td>\n",
       "    </tr>\n",
       "  </tbody>\n",
       "</table>\n",
       "<p>5 rows × 26 columns</p>\n",
       "</div>"
      ],
      "text/plain": [
       "   symboling normalized-losses         make fuel-type aspiration num-of-doors  \\\n",
       "0          3                 ?  alfa-romero       gas        std          two   \n",
       "1          3                 ?  alfa-romero       gas        std          two   \n",
       "2          1                 ?  alfa-romero       gas        std          two   \n",
       "3          2               164         audi       gas        std         four   \n",
       "4          2               164         audi       gas        std         four   \n",
       "\n",
       "    body-style drive-wheels engine-location  wheel-base  ...    engine-size  \\\n",
       "0  convertible          rwd           front        88.6  ...            130   \n",
       "1  convertible          rwd           front        88.6  ...            130   \n",
       "2    hatchback          rwd           front        94.5  ...            152   \n",
       "3        sedan          fwd           front        99.8  ...            109   \n",
       "4        sedan          4wd           front        99.4  ...            136   \n",
       "\n",
       "   fuel-system  bore  stroke compression-ratio horsepower  peak-rpm city-mpg  \\\n",
       "0         mpfi  3.47    2.68               9.0        111      5000       21   \n",
       "1         mpfi  3.47    2.68               9.0        111      5000       21   \n",
       "2         mpfi  2.68    3.47               9.0        154      5000       19   \n",
       "3         mpfi  3.19    3.40              10.0        102      5500       24   \n",
       "4         mpfi  3.19    3.40               8.0        115      5500       18   \n",
       "\n",
       "  highway-mpg  price  \n",
       "0          27  13495  \n",
       "1          27  16500  \n",
       "2          26  16500  \n",
       "3          30  13950  \n",
       "4          22  17450  \n",
       "\n",
       "[5 rows x 26 columns]"
      ]
     },
     "execution_count": 20,
     "metadata": {},
     "output_type": "execute_result"
    }
   ],
   "source": [
    "# What does the ACTUAL data look like?\n",
    "cars_df.head(5)"
   ]
  },
  {
   "cell_type": "code",
   "execution_count": 21,
   "metadata": {
    "collapsed": false
   },
   "outputs": [
    {
     "name": "stdout",
     "output_type": "stream",
     "text": [
      "<class 'pandas.core.frame.DataFrame'>\n",
      "RangeIndex: 205 entries, 0 to 204\n",
      "Data columns (total 26 columns):\n",
      "symboling            205 non-null int64\n",
      "normalized-losses    205 non-null object\n",
      "make                 205 non-null object\n",
      "fuel-type            205 non-null object\n",
      "aspiration           205 non-null object\n",
      "num-of-doors         205 non-null object\n",
      "body-style           205 non-null object\n",
      "drive-wheels         205 non-null object\n",
      "engine-location      205 non-null object\n",
      "wheel-base           205 non-null float64\n",
      "length               205 non-null float64\n",
      "width                205 non-null float64\n",
      "height               205 non-null float64\n",
      "curb-weight          205 non-null int64\n",
      "engine-type          205 non-null object\n",
      "num-of-cylinders     205 non-null object\n",
      "engine-size          205 non-null int64\n",
      "fuel-system          205 non-null object\n",
      "bore                 205 non-null object\n",
      "stroke               205 non-null object\n",
      "compression-ratio    205 non-null float64\n",
      "horsepower           205 non-null object\n",
      "peak-rpm             205 non-null object\n",
      "city-mpg             205 non-null int64\n",
      "highway-mpg          205 non-null int64\n",
      "price                205 non-null object\n",
      "dtypes: float64(5), int64(5), object(16)\n",
      "memory usage: 41.7+ KB\n"
     ]
    }
   ],
   "source": [
    "cars_df.info()"
   ]
  },
  {
   "cell_type": "code",
   "execution_count": 22,
   "metadata": {
    "collapsed": false
   },
   "outputs": [],
   "source": [
    "# '?' in the data represents missing data\n",
    "# I'm changing to match pandas missing datatype\n",
    "import numpy as np\n",
    "cars_df = cars_df.replace('?', np.nan)\n",
    "# cars_df.info() # double check debug"
   ]
  },
  {
   "cell_type": "code",
   "execution_count": 23,
   "metadata": {
    "collapsed": false,
    "scrolled": true
   },
   "outputs": [],
   "source": [
    "cars_df['normalized-losses'] = pd.to_numeric(cars_df['normalized-losses'])\n",
    "cars_df['normalized-losses'].fillna(value=cars_df['normalized-losses'].mean(), inplace=True)\n",
    "# cars_df.info() # double check debug"
   ]
  },
  {
   "cell_type": "code",
   "execution_count": 24,
   "metadata": {
    "collapsed": false
   },
   "outputs": [],
   "source": [
    "cars_df.dropna(inplace=True)\n",
    "# cars_df.info() # double check debug"
   ]
  },
  {
   "cell_type": "code",
   "execution_count": 25,
   "metadata": {
    "collapsed": false
   },
   "outputs": [
    {
     "name": "stdout",
     "output_type": "stream",
     "text": [
      "['symboling', 'curb-weight', 'engine-size', 'city-mpg', 'highway-mpg']\n",
      "<class 'pandas.core.frame.DataFrame'>\n",
      "Int64Index: 193 entries, 0 to 204\n",
      "Data columns (total 26 columns):\n",
      "symboling            193 non-null float64\n",
      "normalized-losses    193 non-null float64\n",
      "make                 193 non-null object\n",
      "fuel-type            193 non-null object\n",
      "aspiration           193 non-null object\n",
      "num-of-doors         193 non-null object\n",
      "body-style           193 non-null object\n",
      "drive-wheels         193 non-null object\n",
      "engine-location      193 non-null object\n",
      "wheel-base           193 non-null float64\n",
      "length               193 non-null float64\n",
      "width                193 non-null float64\n",
      "height               193 non-null float64\n",
      "curb-weight          193 non-null float64\n",
      "engine-type          193 non-null object\n",
      "num-of-cylinders     193 non-null object\n",
      "engine-size          193 non-null float64\n",
      "fuel-system          193 non-null object\n",
      "bore                 193 non-null object\n",
      "stroke               193 non-null object\n",
      "compression-ratio    193 non-null float64\n",
      "horsepower           193 non-null object\n",
      "peak-rpm             193 non-null object\n",
      "city-mpg             193 non-null float64\n",
      "highway-mpg          193 non-null float64\n",
      "price                193 non-null object\n",
      "dtypes: float64(11), object(15)\n",
      "memory usage: 40.7+ KB\n"
     ]
    }
   ],
   "source": [
    "to_convert_to_float = list(cars_df.dtypes[cars_df.dtypes == 'int64'].index)\n",
    "print(to_convert_to_float)\n",
    "\n",
    "for col in to_convert_to_float:\n",
    "    cars_df[col] = cars_df[col].astype(float)\n",
    "\n",
    "cars_df.info()"
   ]
  },
  {
   "cell_type": "code",
   "execution_count": 26,
   "metadata": {
    "collapsed": false
   },
   "outputs": [],
   "source": [
    "# Normalize all float (feature) columns\n",
    "features = ['horsepower', 'peak-rpm', 'price', 'symboling', 'normalized-losses', 'wheel-base',\n",
    "                'length', 'width', 'height', 'curb-weight', 'engine-size', 'bore', 'stroke',\n",
    "                'compression-ratio', 'city-mpg', 'highway-mpg']\n",
    "\n",
    "for col in features:\n",
    "    cars_df[col] = cars_df[col].astype(float)\n",
    "    cars_df[col] = cars_df[col] - np.min(cars_df[col])\n",
    "    span = np.max(cars_df[col]) - np.min(cars_df[col])\n",
    "    cars_df[col] = cars_df[col] / span"
   ]
  },
  {
   "cell_type": "markdown",
   "metadata": {},
   "source": [
    "# Univariate Model Prediction Function"
   ]
  },
  {
   "cell_type": "code",
   "execution_count": 27,
   "metadata": {
    "collapsed": true
   },
   "outputs": [],
   "source": [
    "# create a function to train univariate models\n",
    "def knn_train_test(df, feature_col, target_col):\n",
    "    # split test & train\n",
    "    from sklearn.model_selection import cross_val_score, KFold\n",
    "    kf = KFold(shuffle=True, random_state=1)\n",
    "    \n",
    "    from sklearn.neighbors import KNeighborsRegressor\n",
    "    knn = KNeighborsRegressor()\n",
    "    mses = cross_val_score(estimator=knn, X=df[[feature_col]], y=df[target_col], scoring='neg_mean_squared_error', cv=kf)\n",
    "    rmses = np.sqrt(np.absolute(mses))\n",
    "    avg_rmse = np.mean(rmses)\n",
    "    return avg_rmse"
   ]
  },
  {
   "cell_type": "code",
   "execution_count": 28,
   "metadata": {
    "collapsed": false
   },
   "outputs": [
    {
     "name": "stdout",
     "output_type": "stream",
     "text": [
      "[('horsepower', 0.09492234566209934), ('peak-rpm', 0.18722821446040203), ('price', 0.015474835057827931), ('symboling', 0.2244070058991492), ('normalized-losses', 0.216953481846922), ('wheel-base', 0.14806137926209786), ('length', 0.12912195867665321), ('width', 0.11251020969179686), ('height', 0.1906190199608633), ('curb-weight', 0.10696377077044265), ('engine-size', 0.08266851350308228), ('bore', 0.16413445188110143), ('stroke', 0.1818567170259259), ('compression-ratio', 0.1653929379417603), ('city-mpg', 0.09894465627474656), ('highway-mpg', 0.10710079431115253)]\n"
     ]
    }
   ],
   "source": [
    "# use the function to make a price prediction using all the features\n",
    "errors = list()\n",
    "for col in features:\n",
    "    errors.append(knn_train_test(cars_df, col, 'price'))\n",
    "print(list(zip(features, errors)))"
   ]
  },
  {
   "cell_type": "markdown",
   "metadata": {},
   "source": [
    "# Feature Error Values for Price Prediction (Lower = Better)"
   ]
  },
  {
   "cell_type": "code",
   "execution_count": 29,
   "metadata": {
    "collapsed": false,
    "scrolled": true
   },
   "outputs": [
    {
     "data": {
      "image/png": "[encoded data removed]",
      "text/plain": [
       "<matplotlib.figure.Figure at 0x7fd7f8608cc0>"
      ]
     },
     "metadata": {},
     "output_type": "display_data"
    }
   ],
   "source": [
    "from matplotlib import pyplot as plt\n",
    "%matplotlib inline\n",
    "df = pd.DataFrame({'error': errors}, index=features)\n",
    "df.plot.bar(rot=-45, figsize=(14,4))\n",
    "plt.ylabel('normalized error')\n",
    "plt.title('Feature Error Value for each Univariate 5=K-Fold Nearest Neighbor')\n",
    "plt.show()"
   ]
  },
  {
   "cell_type": "markdown",
   "metadata": {},
   "source": [
    "# Univariate Model Prediction Function w/ K-Nearest as Parameter"
   ]
  },
  {
   "cell_type": "code",
   "execution_count": 30,
   "metadata": {
    "collapsed": true
   },
   "outputs": [],
   "source": [
    "# create a function to train univariate models with\n",
    "# 2nd version allows a parameter to specific how many of the nearest neighbors are averaged\n",
    "def knn_train_test2(df, feature_col, target_col, k=5):\n",
    "    # split test & train\n",
    "    from sklearn.model_selection import cross_val_score, KFold\n",
    "    kf = KFold(shuffle=True, random_state=1)\n",
    "\n",
    "    from sklearn.neighbors import KNeighborsRegressor\n",
    "    knn = KNeighborsRegressor(n_neighbors = k)\n",
    "    mses = cross_val_score(estimator=knn, X=df[[feature_col]], y=df[target_col], scoring='neg_mean_squared_error', cv=kf)\n",
    "    rmses = np.sqrt(np.absolute(mses))\n",
    "    avg_rmse = np.mean(rmses)\n",
    "    return avg_rmse"
   ]
  },
  {
   "cell_type": "code",
   "execution_count": 31,
   "metadata": {
    "collapsed": false
   },
   "outputs": [],
   "source": [
    "# use the function to make a price prediction using all the features\n",
    "# log predictions in to a dict for bar plot later\n",
    "errors = dict()\n",
    "k_folds = [1,3,5,7,9]\n",
    "for k in k_folds:\n",
    "    errors[k] = []\n",
    "    for col in features:\n",
    "        error = knn_train_test2(cars_df, col, 'price', k)\n",
    "        errors[k].append(error)"
   ]
  },
  {
   "cell_type": "markdown",
   "metadata": {},
   "source": [
    "# Univariate Model Feature Errors for each K-Nearest Tested"
   ]
  },
  {
   "cell_type": "code",
   "execution_count": 32,
   "metadata": {
    "collapsed": false,
    "scrolled": true
   },
   "outputs": [
    {
     "data": {
      "image/png": "[encoded data removed]",
      "text/plain": [
       "<matplotlib.figure.Figure at 0x7fd7f867c630>"
      ]
     },
     "metadata": {},
     "output_type": "display_data"
    }
   ],
   "source": [
    "from matplotlib import pyplot as plt\n",
    "%matplotlib inline\n",
    "\n",
    "feature_error_dict = dict()\n",
    "for key in errors:\n",
    "    feature_error_dict[str('error k='+str(key))] = errors[key]\n",
    "\n",
    "df = pd.DataFrame(feature_error_dict, index=features)\n",
    "df.plot.bar(rot=-45, figsize=(16,4))\n",
    "plt.ylabel('normalized error')\n",
    "plt.title('Univariate Model Feature Errors for each K-Nearest Tested ')\n",
    "plt.show()"
   ]
  },
  {
   "cell_type": "markdown",
   "metadata": {},
   "source": [
    "# Impressions\n",
    "* Features with **low errors** have **high bias**. aka their error increases with model complexity (k value)\n",
    "* Features with **high errors** have **low bias**. aka their error decreases with model complexity (k value)"
   ]
  },
  {
   "cell_type": "markdown",
   "metadata": {},
   "source": [
    "# MULTIVARIATE Model Prediction Function w/K-Nearest Parameter"
   ]
  },
  {
   "cell_type": "code",
   "execution_count": 33,
   "metadata": {
    "collapsed": true
   },
   "outputs": [],
   "source": [
    "# create a function to train multivariate models with\n",
    "# 2nd version allows a parameter to specific how many of the nearest neighbors are averaged\n",
    "def knn_train_test3(df, feature_cols, target_col, k=5):\n",
    "    # split test & train\n",
    "    from sklearn.model_selection import cross_val_score, KFold\n",
    "    kf = KFold(shuffle=True, random_state=1)\n",
    "\n",
    "    from sklearn.neighbors import KNeighborsRegressor\n",
    "    knn = KNeighborsRegressor(n_neighbors = k)\n",
    "    mses = cross_val_score(estimator=knn, X=df[feature_cols], y=df[target_col], scoring='neg_mean_squared_error', cv=kf)\n",
    "    rmses = np.sqrt(np.absolute(mses))\n",
    "    avg_rmse = np.mean(rmses)\n",
    "    return avg_rmse"
   ]
  },
  {
   "cell_type": "markdown",
   "metadata": {},
   "source": [
    "# Train with Multiple of the best features from the previous test\n",
    "* train with the 2 best features using the default k value\n",
    "* train with the 3 best features using the default k value\n",
    "* train with the 4 best features using the default k value\n",
    "* train with the 5 best features using the default k value"
   ]
  },
  {
   "cell_type": "code",
   "execution_count": 34,
   "metadata": {
    "collapsed": false
   },
   "outputs": [
    {
     "name": "stdout",
     "output_type": "stream",
     "text": [
      "feature_list:  ['engine-size', 'city-mpg']\n",
      "RMSE prediction error:  0.07640395639086316 \n",
      "\n",
      "feature_list:  ['engine-size', 'city-mpg', 'width']\n",
      "RMSE prediction error:  0.08601958525650039 \n",
      "\n",
      "feature_list:  ['engine-size', 'city-mpg', 'width', 'curb-weight']\n",
      "RMSE prediction error:  0.08565749726251289 \n",
      "\n",
      "feature_list:  ['engine-size', 'city-mpg', 'width', 'curb-weight', 'highway-mpg']\n",
      "RMSE prediction error:  0.08614360484984056 \n",
      "\n"
     ]
    }
   ],
   "source": [
    "# excluding price itself\n",
    "best_feature_ranking = ['engine-size', 'city-mpg', 'width', 'curb-weight', 'highway-mpg', 'horsepower', 'length', 'wheel-base', 'compression-ratio', 'bore', 'stroke', 'normalized-losses', 'peak-rpm', 'height', 'symboling']\n",
    "\n",
    "errors = list()\n",
    "for ft_cnt in range(2,6):\n",
    "    feature_list = best_feature_ranking[:ft_cnt]\n",
    "    errors.append(knn_train_test3(cars_df, feature_list, 'price'))\n",
    "    print('feature_list: ', feature_list)\n",
    "    print('RMSE prediction error: ', errors[-1], '\\n')"
   ]
  },
  {
   "cell_type": "markdown",
   "metadata": {},
   "source": [
    "# What number of k-nearest neighbors is optimal for the best features?"
   ]
  },
  {
   "cell_type": "code",
   "execution_count": 35,
   "metadata": {
    "collapsed": false,
    "scrolled": true
   },
   "outputs": [
    {
     "name": "stdout",
     "output_type": "stream",
     "text": [
      "feature_list:  ['engine-size', 'city-mpg']\n",
      "min RMSE prediction error:  0.0719282402428123\n",
      "min error k-value:  3 \n",
      "\n",
      "feature_list:  ['engine-size', 'city-mpg', 'width']\n",
      "min RMSE prediction error:  0.06644754708902002\n",
      "min error k-value:  2 \n",
      "\n",
      "feature_list:  ['engine-size', 'city-mpg', 'width', 'curb-weight']\n",
      "min RMSE prediction error:  0.06418503577423311\n",
      "min error k-value:  1 \n",
      "\n",
      "feature_list:  ['engine-size', 'city-mpg', 'width', 'curb-weight', 'highway-mpg']\n",
      "min RMSE prediction error:  0.067672367509655\n",
      "min error k-value:  2 \n",
      "\n"
     ]
    }
   ],
   "source": [
    "import sys\n",
    "feature_k_combos = dict()\n",
    "\n",
    "# for the 3 combinations of best features\n",
    "for ft_cnt in range(2,6):\n",
    "    \n",
    "    feature_list = best_feature_ranking[:ft_cnt]\n",
    "    \n",
    "    # try k values 1-25\n",
    "    feature_k_combos[ft_cnt] = list()\n",
    "    min_combo = (sys.float_info.max, 0)\n",
    "    for k in range(1,26):\n",
    "        error = knn_train_test3(cars_df, feature_list, 'price', k)\n",
    "        feature_k_combos[ft_cnt].append(error)\n",
    "        if error < min_combo[0]:\n",
    "            min_combo = (error, k)\n",
    "    \n",
    "    print('feature_list: ', feature_list)\n",
    "    print('min RMSE prediction error: ', min_combo[0])\n",
    "    print('min error k-value: ', min_combo[1], '\\n')"
   ]
  },
  {
   "cell_type": "code",
   "execution_count": 36,
   "metadata": {
    "collapsed": false
   },
   "outputs": [
    {
     "data": {
      "image/png": "[encoded data removed]",
      "text/plain": [
       "<matplotlib.figure.Figure at 0x7fd7f8664cc0>"
      ]
     },
     "metadata": {},
     "output_type": "display_data"
    }
   ],
   "source": [
    "df = pd.DataFrame({'k-value: 2': feature_k_combos[2],\n",
    "     'k-value: 3': feature_k_combos[3],\n",
    "     'k-value: 4': feature_k_combos[4],\n",
    "     'k-value: 5': feature_k_combos[5]\n",
    "    })\n",
    "df.plot.line()\n",
    "plt.show()"
   ]
  },
  {
   "cell_type": "markdown",
   "metadata": {},
   "source": [
    "# Result Impressions\n",
    "* low k-value with great prediction results means their is very high bias going on "
   ]
  }
 ],
 "metadata": {
  "kernelspec": {
   "display_name": "Python 3",
   "language": "python",
   "name": "python3"
  },
  "language_info": {
   "codemirror_mode": {
    "name": "ipython",
    "version": 3
   },
   "file_extension": ".py",
   "mimetype": "text/x-python",
   "name": "python",
   "nbconvert_exporter": "python",
   "pygments_lexer": "ipython3",
   "version": "3.4.3"
  }
 },
 "nbformat": 4,
 "nbformat_minor": 2
}
