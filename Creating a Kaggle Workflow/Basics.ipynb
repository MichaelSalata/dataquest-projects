{
 "cells": [
  {
   "cell_type": "code",
   "execution_count": 18,
   "metadata": {},
   "outputs": [
    {
     "data": {
      "text/html": [
       "<div>\n",
       "<style scoped>\n",
       "    .dataframe tbody tr th:only-of-type {\n",
       "        vertical-align: middle;\n",
       "    }\n",
       "\n",
       "    .dataframe tbody tr th {\n",
       "        vertical-align: top;\n",
       "    }\n",
       "\n",
       "    .dataframe thead th {\n",
       "        text-align: right;\n",
       "    }\n",
       "</style>\n",
       "<table border=\"1\" class=\"dataframe\">\n",
       "  <thead>\n",
       "    <tr style=\"text-align: right;\">\n",
       "      <th></th>\n",
       "      <th>PassengerId</th>\n",
       "      <th>Pclass</th>\n",
       "      <th>Name</th>\n",
       "      <th>Sex</th>\n",
       "      <th>Age</th>\n",
       "      <th>SibSp</th>\n",
       "      <th>Parch</th>\n",
       "      <th>Ticket</th>\n",
       "      <th>Fare</th>\n",
       "      <th>Cabin</th>\n",
       "      <th>Embarked</th>\n",
       "    </tr>\n",
       "  </thead>\n",
       "  <tbody>\n",
       "    <tr>\n",
       "      <th>0</th>\n",
       "      <td>892</td>\n",
       "      <td>3</td>\n",
       "      <td>Kelly, Mr. James</td>\n",
       "      <td>male</td>\n",
       "      <td>34.5</td>\n",
       "      <td>0</td>\n",
       "      <td>0</td>\n",
       "      <td>330911</td>\n",
       "      <td>7.8292</td>\n",
       "      <td>NaN</td>\n",
       "      <td>Q</td>\n",
       "    </tr>\n",
       "  </tbody>\n",
       "</table>\n",
       "</div>"
      ],
      "text/plain": [
       "   PassengerId  Pclass              Name   Sex   Age  SibSp  Parch  Ticket  \\\n",
       "0          892       3  Kelly, Mr. James  male  34.5      0      0  330911   \n",
       "\n",
       "     Fare Cabin Embarked  \n",
       "0  7.8292   NaN        Q  "
      ]
     },
     "execution_count": 18,
     "metadata": {},
     "output_type": "execute_result"
    }
   ],
   "source": [
    "import pandas as pd\n",
    "train = pd.read_csv(\"train.csv\")\n",
    "holdout = pd.read_csv(\"test.csv\")\n",
    "holdout.head(1)"
   ]
  },
  {
   "cell_type": "code",
   "execution_count": 19,
   "metadata": {},
   "outputs": [],
   "source": [
    "# %load functions.py\n",
    "def process_missing(df):\n",
    "    \"\"\"Handle various missing values from the data set\n",
    "\n",
    "    Usage\n",
    "    ------\n",
    "\n",
    "    holdout = process_missing(holdout)\n",
    "    \"\"\"\n",
    "    df[\"Fare\"] = df[\"Fare\"].fillna(train[\"Fare\"].mean())\n",
    "    df[\"Embarked\"] = df[\"Embarked\"].fillna(\"S\")\n",
    "    return df\n",
    "\n",
    "def process_age(df):\n",
    "    \"\"\"Process the Age column into pre-defined 'bins' \n",
    "\n",
    "    Usage\n",
    "    ------\n",
    "\n",
    "    train = process_age(train)\n",
    "    \"\"\"\n",
    "    df[\"Age\"] = df[\"Age\"].fillna(-0.5)\n",
    "    cut_points = [-1,0,5,12,18,35,60,100]\n",
    "    label_names = [\"Missing\",\"Infant\",\"Child\",\"Teenager\",\"Young Adult\",\"Adult\",\"Senior\"]\n",
    "    df[\"Age_categories\"] = pd.cut(df[\"Age\"],cut_points,labels=label_names)\n",
    "    return df\n",
    "\n",
    "def process_fare(df):\n",
    "    \"\"\"Process the Fare column into pre-defined 'bins' \n",
    "\n",
    "    Usage\n",
    "    ------\n",
    "\n",
    "    train = process_fare(train)\n",
    "    \"\"\"\n",
    "    cut_points = [-1,12,50,100,1000]\n",
    "    label_names = [\"0-12\",\"12-50\",\"50-100\",\"100+\"]\n",
    "    df[\"Fare_categories\"] = pd.cut(df[\"Fare\"],cut_points,labels=label_names)\n",
    "    return df\n",
    "\n",
    "def process_cabin(df):\n",
    "    \"\"\"Process the Cabin column into pre-defined 'bins' \n",
    "\n",
    "    Usage\n",
    "    ------\n",
    "\n",
    "    train process_cabin(train)\n",
    "    \"\"\"\n",
    "    df[\"Cabin_type\"] = df[\"Cabin\"].str[0]\n",
    "    df[\"Cabin_type\"] = df[\"Cabin_type\"].fillna(\"Unknown\")\n",
    "    df = df.drop('Cabin',axis=1)\n",
    "    return df\n",
    "\n",
    "def process_titles(df):\n",
    "    \"\"\"Extract and categorize the title from the name column \n",
    "\n",
    "    Usage\n",
    "    ------\n",
    "\n",
    "    train = process_titles(train)\n",
    "    \"\"\"\n",
    "    titles = {\n",
    "        \"Mr\" :         \"Mr\",\n",
    "        \"Mme\":         \"Mrs\",\n",
    "        \"Ms\":          \"Mrs\",\n",
    "        \"Mrs\" :        \"Mrs\",\n",
    "        \"Master\" :     \"Master\",\n",
    "        \"Mlle\":        \"Miss\",\n",
    "        \"Miss\" :       \"Miss\",\n",
    "        \"Capt\":        \"Officer\",\n",
    "        \"Col\":         \"Officer\",\n",
    "        \"Major\":       \"Officer\",\n",
    "        \"Dr\":          \"Officer\",\n",
    "        \"Rev\":         \"Officer\",\n",
    "        \"Jonkheer\":    \"Royalty\",\n",
    "        \"Don\":         \"Royalty\",\n",
    "        \"Sir\" :        \"Royalty\",\n",
    "        \"Countess\":    \"Royalty\",\n",
    "        \"Dona\":        \"Royalty\",\n",
    "        \"Lady\" :       \"Royalty\"\n",
    "    }\n",
    "    extracted_titles = df[\"Name\"].str.extract(' ([A-Za-z]+)\\.',expand=False)\n",
    "    df[\"Title\"] = extracted_titles.map(titles)\n",
    "    return df\n",
    "\n",
    "def create_dummies(df,column_name):\n",
    "    \"\"\"Create Dummy Columns (One Hot Encoding) from a single Column\n",
    "\n",
    "    Usage\n",
    "    ------\n",
    "\n",
    "    train = create_dummies(train,\"Age\")\n",
    "    \"\"\"\n",
    "    dummies = pd.get_dummies(df[column_name],prefix=column_name)\n",
    "    df = pd.concat([df,dummies],axis=1)\n",
    "    return df"
   ]
  },
  {
   "cell_type": "code",
   "execution_count": 20,
   "metadata": {},
   "outputs": [],
   "source": [
    "def process_df(df):\n",
    "    df = process_missing(df)\n",
    "    df = process_age(df)\n",
    "    df = process_fare(df)\n",
    "    df = process_titles(df)\n",
    "    df = process_cabin(df)\n",
    "    \n",
    "    cols_to_dummy = [\"Age_categories\", \"Fare_categories\",\"Title\", \"Cabin_type\", \"Sex\"]\n",
    "    for c in cols_to_dummy:\n",
    "        df = create_dummies(df, c)\n",
    "        \n",
    "    return df\n",
    "\n",
    "train = process_df(train)\n",
    "holdout = process_df(holdout)"
   ]
  },
  {
   "cell_type": "markdown",
   "metadata": {},
   "source": [
    "## Passenger Blood relative count analysis\n",
    "* **SibSp** - The number of siblings or spouses the passenger had aboard the Titanic\n",
    "* **Parch** - The number of parents or children the passenger had aboard the Titanic"
   ]
  },
  {
   "cell_type": "code",
   "execution_count": 21,
   "metadata": {},
   "outputs": [
    {
     "data": {
      "text/plain": [
       "count    891.000000\n",
       "mean       0.523008\n",
       "std        1.102743\n",
       "min        0.000000\n",
       "25%        0.000000\n",
       "50%        0.000000\n",
       "75%        1.000000\n",
       "max        8.000000\n",
       "Name: SibSp, dtype: float64"
      ]
     },
     "execution_count": 21,
     "metadata": {},
     "output_type": "execute_result"
    }
   ],
   "source": [
    "train['SibSp'].describe()"
   ]
  },
  {
   "cell_type": "code",
   "execution_count": 22,
   "metadata": {
    "scrolled": true
   },
   "outputs": [
    {
     "data": {
      "text/plain": [
       "count    891.000000\n",
       "mean       0.381594\n",
       "std        0.806057\n",
       "min        0.000000\n",
       "25%        0.000000\n",
       "50%        0.000000\n",
       "75%        0.000000\n",
       "max        6.000000\n",
       "Name: Parch, dtype: float64"
      ]
     },
     "execution_count": 22,
     "metadata": {},
     "output_type": "execute_result"
    }
   ],
   "source": [
    "train['Parch'].describe()"
   ]
  },
  {
   "cell_type": "code",
   "execution_count": 23,
   "metadata": {},
   "outputs": [
    {
     "data": {
      "text/plain": [
       "0    608\n",
       "1    209\n",
       "2     28\n",
       "4     18\n",
       "3     16\n",
       "8      7\n",
       "5      5\n",
       "Name: SibSp, dtype: int64"
      ]
     },
     "execution_count": 23,
     "metadata": {},
     "output_type": "execute_result"
    },
    {
     "data": {
      "image/png": "[encoded data removed]",
      "text/plain": [
       "<Figure size 600x400 with 1 Axes>"
      ]
     },
     "metadata": {},
     "output_type": "display_data"
    }
   ],
   "source": [
    "import matplotlib.pyplot as plt\n",
    "%matplotlib inline\n",
    "train['SibSp'].plot.hist()\n",
    "plt.ylabel(\"passenger count with that many\")\n",
    "plt.xlabel(\"Sibling/Spouse Counts\")\n",
    "train['SibSp'].value_counts()"
   ]
  },
  {
   "cell_type": "code",
   "execution_count": 24,
   "metadata": {},
   "outputs": [
    {
     "data": {
      "text/plain": [
       "0    678\n",
       "1    118\n",
       "2     80\n",
       "5      5\n",
       "3      5\n",
       "4      4\n",
       "6      1\n",
       "Name: Parch, dtype: int64"
      ]
     },
     "execution_count": 24,
     "metadata": {},
     "output_type": "execute_result"
    },
    {
     "data": {
      "image/png": "[encoded data removed]",
      "text/plain": [
       "<Figure size 600x400 with 1 Axes>"
      ]
     },
     "metadata": {},
     "output_type": "display_data"
    }
   ],
   "source": [
    "train['Parch'].plot.hist()\n",
    "plt.ylabel(\"passenger count with that many\")\n",
    "plt.xlabel(\"Parent/Children Counts\")\n",
    "train['Parch'].value_counts()"
   ]
  },
  {
   "cell_type": "code",
   "execution_count": 25,
   "metadata": {},
   "outputs": [
    {
     "name": "stdout",
     "output_type": "stream",
     "text": [
      "           mean      sum\n",
      "       Survived Survived\n",
      "SibSp                   \n",
      "0      0.345395      210\n",
      "1      0.535885      112\n",
      "2      0.464286       13\n",
      "3      0.250000        4\n",
      "4      0.166667        3\n",
      "5      0.000000        0\n",
      "8      0.000000        0\n"
     ]
    }
   ],
   "source": [
    "# mean tells us the ratio of of people in that category that survived\n",
    "survival_pivot = train[['SibSp', 'Survived']].pivot_table(index=['SibSp'], values=['Survived'], aggfunc=['mean', 'sum'])\n",
    "print(survival_pivot)"
   ]
  },
  {
   "cell_type": "code",
   "execution_count": 26,
   "metadata": {},
   "outputs": [
    {
     "name": "stdout",
     "output_type": "stream",
     "text": [
      "           mean      sum\n",
      "       Survived Survived\n",
      "Parch                   \n",
      "0      0.343658      233\n",
      "1      0.550847       65\n",
      "2      0.500000       40\n",
      "3      0.600000        3\n",
      "4      0.000000        0\n",
      "5      0.200000        1\n",
      "6      0.000000        0\n"
     ]
    }
   ],
   "source": [
    "# mean tells us the ratio of of people in that category that survived\n",
    "survival_pivot = train[['Parch', 'Survived']].pivot_table(index=['Parch'], values=['Survived'], aggfunc=['mean', 'sum'])\n",
    "print(survival_pivot)"
   ]
  },
  {
   "cell_type": "code",
   "execution_count": 27,
   "metadata": {},
   "outputs": [
    {
     "name": "stdout",
     "output_type": "stream",
     "text": [
      "     Parch  SibSp  Relatives  Survived\n",
      "0        0      1          1         0\n",
      "1        0      1          1         1\n",
      "2        0      0          0         1\n",
      "3        0      1          1         1\n",
      "4        0      0          0         0\n",
      "..     ...    ...        ...       ...\n",
      "886      0      0          0         0\n",
      "887      0      0          0         1\n",
      "888      2      1          3         0\n",
      "889      0      0          0         1\n",
      "890      0      0          0         0\n",
      "\n",
      "[891 rows x 4 columns]\n"
     ]
    }
   ],
   "source": [
    "relatives = train[['Parch', 'SibSp']].sum(axis=1)\n",
    "# print(len(relatives), relatives.value_counts(dropna=False), relatives)\n",
    "relatives_dict = {'Parch':train['Parch'],\n",
    "             'SibSp':train['SibSp'],\n",
    "             'Relatives':relatives,\n",
    "             'Survived':train['Survived']\n",
    "            }\n",
    "relatives_df = pd.DataFrame(relatives_dict)\n",
    "print(relatives_df)"
   ]
  },
  {
   "cell_type": "code",
   "execution_count": 28,
   "metadata": {},
   "outputs": [
    {
     "name": "stdout",
     "output_type": "stream",
     "text": [
      "               mean      sum\n",
      "           Survived Survived\n",
      "Relatives                   \n",
      "0          0.303538      163\n",
      "1          0.552795       89\n",
      "2          0.578431       59\n",
      "3          0.724138       21\n",
      "4          0.200000        3\n",
      "5          0.136364        3\n",
      "6          0.333333        4\n",
      "7          0.000000        0\n",
      "10         0.000000        0\n"
     ]
    },
    {
     "data": {
      "image/png": "[encoded data removed]",
      "text/plain": [
       "<Figure size 600x400 with 1 Axes>"
      ]
     },
     "metadata": {},
     "output_type": "display_data"
    },
    {
     "data": {
      "image/png": "[encoded data removed]",
      "text/plain": [
       "<Figure size 600x400 with 1 Axes>"
      ]
     },
     "metadata": {},
     "output_type": "display_data"
    },
    {
     "data": {
      "image/png": "[encoded data removed]",
      "text/plain": [
       "<Figure size 600x400 with 1 Axes>"
      ]
     },
     "metadata": {},
     "output_type": "display_data"
    }
   ],
   "source": [
    "survival_pivot = relatives_df[['Relatives', 'Survived']].pivot_table(index=['Relatives'], values=['Survived'], aggfunc=['mean', 'sum'])\n",
    "print(survival_pivot)\n",
    "for c in ['Parch', 'SibSp', 'Relatives']:\n",
    "    survival_pivot = relatives_df[[c, 'Survived']].pivot_table(index=[c], values=['Survived'], aggfunc=['mean'])\n",
    "    survival_pivot.plot.bar()\n",
    "    plt.xlabel(c +\" Count\")\n",
    "    plt.ylabel(\"Survival Rate\")\n",
    "    plt.show()"
   ]
  },
  {
   "cell_type": "code",
   "execution_count": 29,
   "metadata": {},
   "outputs": [],
   "source": [
    "# create a function that adds a column indicating if a passenger has relatives on board (1,0)\n",
    "def process_solo_passengers(df):\n",
    "    alone_filter = (df['SibSp']==0) & (df['Parch']==0)\n",
    "    df[\"isalone\"] = pd.Series(alone_filter).astype('int64')\n",
    "    return df"
   ]
  },
  {
   "cell_type": "code",
   "execution_count": 30,
   "metadata": {},
   "outputs": [],
   "source": [
    "train = process_solo_passengers(train)\n",
    "holdout = process_solo_passengers(holdout)"
   ]
  },
  {
   "cell_type": "code",
   "execution_count": 46,
   "metadata": {},
   "outputs": [],
   "source": [
    "# create a function to find the optimal features through Recursive Feature Elimination\n",
    "from sklearn.feature_selection import RFECV\n",
    "from sklearn.ensemble import RandomForestClassifier\n",
    "def select_features(df):\n",
    "    df = df.dropna(axis=1)\n",
    "    df = df.select_dtypes(include=['float64', 'int64'])\n",
    "    \n",
    "    feature_cols = list(df.columns)\n",
    "    feature_cols.remove('PassengerId')\n",
    "    feature_cols.remove('Survived')\n",
    "    all_X = df[feature_cols]\n",
    "    \n",
    "    all_y = df['Survived']\n",
    "    \n",
    "    rfc = RandomForestClassifier(random_state=1)\n",
    "    selector = RFECV(rfc, cv=10)\n",
    "    selector.fit(all_X, all_y)\n",
    "    optimized_columns = all_X.columns[selector.support_]\n",
    "    print(optimized_columns)\n",
    "    return optimized_columns"
   ]
  },
  {
   "cell_type": "code",
   "execution_count": 47,
   "metadata": {},
   "outputs": [
    {
     "name": "stdout",
     "output_type": "stream",
     "text": [
      "Index(['Pclass', 'Age', 'SibSp', 'Parch', 'Fare', 'isalone'], dtype='object')\n"
     ]
    }
   ],
   "source": [
    "optimized_columns = select_features(train)"
   ]
  },
  {
   "cell_type": "code",
   "execution_count": 51,
   "metadata": {},
   "outputs": [],
   "source": [
    "# create function to GridSearch the optimal parameters for multiple models (& find the best performing one) \n",
    "from sklearn.model_selection import GridSearchCV\n",
    "from sklearn.neighbors import KNeighborsClassifier\n",
    "from sklearn.linear_model import LogisticRegression\n",
    "\n",
    "def select_model(df, feature_list):\n",
    "    all_X = df[feature_list]\n",
    "    all_y = df['Survived']\n",
    "    hyperparameter_dict_list = [\n",
    "        {\n",
    "        \"name\": \"LogisticRegression\",\n",
    "        \"estimator\": LogisticRegression(),\n",
    "        \"hyperparameters\":\n",
    "            {\n",
    "                \"solver\": [\"newton-cg\", \"lbfgs\", \"liblinear\"]\n",
    "            }\n",
    "        },\n",
    "        {\n",
    "        \"name\": \"KNeighborsClassifier\",\n",
    "        \"estimator\": KNeighborsClassifier(),\n",
    "        \"hyperparameters\":\n",
    "            {\n",
    "                \"n_neighbors\": range(1,20,2),\n",
    "                \"weights\": [\"distance\", \"uniform\"],\n",
    "                \"algorithm\": [\"ball_tree\", \"kd_tree\", \"brute\"],\n",
    "                \"p\": [1,2]\n",
    "            }\n",
    "        },\n",
    "        {\n",
    "        \"name\": \"RandomForestClassifier\",\n",
    "        \"estimator\": RandomForestClassifier(),\n",
    "        \"hyperparameters\":\n",
    "            {\n",
    "                \"n_estimators\": [4, 6, 9],\n",
    "                \"criterion\": [\"entropy\", \"gini\"],\n",
    "                \"max_depth\": [2, 5, 10],\n",
    "                \"max_features\": [\"log2\", \"sqrt\"],\n",
    "                \"min_samples_leaf\": [1, 5, 8],\n",
    "                \"min_samples_split\": [2, 3, 5]\n",
    "            }\n",
    "        }\n",
    "    ]\n",
    "    \n",
    "    for hp in hyperparameter_dict_list:\n",
    "        print(hp['name'])\n",
    "        grid = GridSearchCV(estimator=hp['estimator'], param_grid=hp[\"hyperparameters\"], cv=10)\n",
    "        grid.fit(all_X, all_y)\n",
    "        hp['best_params'] = grid.best_params_\n",
    "        hp['best_model'] = grid.best_estimator_\n",
    "        print(\"best_params: \", grid.best_params_)\n",
    "        print(\"best_score: \", grid.best_score_)\n",
    "    \n",
    "    return hyperparameter_dict_list"
   ]
  },
  {
   "cell_type": "code",
   "execution_count": 50,
   "metadata": {},
   "outputs": [
    {
     "name": "stdout",
     "output_type": "stream",
     "text": [
      "LogisticRegression\n",
      "best_params:  {'solver': 'newton-cg'}\n",
      "best_score:  0.7206242197253434\n",
      "KNeighborsClassifier\n",
      "best_params:  {'algorithm': 'brute', 'n_neighbors': 17, 'p': 1, 'weights': 'distance'}\n",
      "best_score:  0.6981897627965045\n",
      "RandomForestClassifier\n",
      "best_params:  {'criterion': 'gini', 'max_depth': 5, 'max_features': 'log2', 'min_samples_leaf': 5, 'min_samples_split': 5, 'n_estimators': 9}\n",
      "best_score:  0.7430961298377029\n"
     ]
    }
   ],
   "source": [
    "model_performance_dict = select_model(train, optimized_columns)"
   ]
  },
  {
   "cell_type": "markdown",
   "metadata": {},
   "source": [
    "## consider engineering more/better features"
   ]
  },
  {
   "cell_type": "code",
   "execution_count": 53,
   "metadata": {},
   "outputs": [],
   "source": [
    "# submit the best model to Kaggle\n",
    "def save_submission_file(model, feature_cols, filename=\"submission.csv\"):\n",
    "    holdout_predictions = model.predict(holdout[feature_cols])\n",
    "    df_dict = {'PassengerId': holdout['PassengerId'],\n",
    "               'Survived': holdout_predictions\n",
    "              }\n",
    "    submission = pd.DataFrame(df_dict)\n",
    "    submission.to_csv(filename, index=False)"
   ]
  },
  {
   "cell_type": "code",
   "execution_count": 55,
   "metadata": {},
   "outputs": [],
   "source": [
    "save_submission_file(model_performance_dict[2]['best_model'], optimized_columns)"
   ]
  }
 ],
 "metadata": {
  "kernelspec": {
   "display_name": "Python 3",
   "language": "python",
   "name": "python3"
  },
  "language_info": {
   "codemirror_mode": {
    "name": "ipython",
    "version": 3
   },
   "file_extension": ".py",
   "mimetype": "text/x-python",
   "name": "python",
   "nbconvert_exporter": "python",
   "pygments_lexer": "ipython3",
   "version": "3.8.2"
  }
 },
 "nbformat": 4,
 "nbformat_minor": 2
}
